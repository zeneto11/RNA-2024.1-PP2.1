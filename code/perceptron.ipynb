{
 "cells": [
  {
   "cell_type": "markdown",
   "metadata": {},
   "source": [
    "# Redes Neurais Artificiais 2024.1\n",
    "\n",
    "## Projeto Prático 2.1: Aprendizado Supervisionado no Neurônio Perceptrons\n",
    "\n",
    "Equipe:\n",
    "- Ademir Guimarães da Costa Junior\n",
    "- Geovani Lopes Sampaio\n",
    "- Gustavo Pacífico S. S. Chaves\n",
    "- José Augusto de Almeida Neto"
   ]
  },
  {
   "cell_type": "markdown",
   "metadata": {},
   "source": [
    "### Bibliotecas"
   ]
  },
  {
   "cell_type": "code",
   "execution_count": 1,
   "metadata": {},
   "outputs": [],
   "source": [
    "import math\n",
    "import random\n",
    "\n",
    "import matplotlib.pyplot as plt\n",
    "import numpy as np\n",
    "import pandas as pd"
   ]
  },
  {
   "cell_type": "markdown",
   "metadata": {},
   "source": [
    "## Parte I – Resolvendo um Problema Linearmente Separável"
   ]
  },
  {
   "cell_type": "code",
   "execution_count": 10,
   "metadata": {},
   "outputs": [
    {
     "name": "stdout",
     "output_type": "stream",
     "text": [
      "(2000, 1, 3)\n"
     ]
    }
   ],
   "source": [
    "# Carregamento de dados\n",
    "data = np.fromfile('../data/dataAll.txt', dtype=np.float32)\n",
    "data = data.reshape(-1, 1, 3)  # Redimensionar para (m, 1, 3)\n",
    "print(data.shape)"
   ]
  },
  {
   "cell_type": "markdown",
   "metadata": {},
   "source": [
    "## Parte II – Experimentação"
   ]
  },
  {
   "cell_type": "markdown",
   "metadata": {},
   "source": [
    "## Parte III – Validação Holdout em Problema Não-Linearmente Separável"
   ]
  },
  {
   "cell_type": "markdown",
   "metadata": {},
   "source": [
    "### Questões"
   ]
  },
  {
   "cell_type": "markdown",
   "metadata": {},
   "source": [
    "Matriz de confusão das previsões efetuadas para o conjunto de testes;"
   ]
  },
  {
   "cell_type": "markdown",
   "metadata": {},
   "source": [
    "Qual a acurácia da solução proposta para os dados do conjunto de treinamento inicialmente\n",
    "fornecido?"
   ]
  },
  {
   "cell_type": "markdown",
   "metadata": {},
   "source": [
    "Nos mesmos termos da questão anterior, obtenha os valores de precisão, revocação e F-Score.\n",
    "Para estes cálculos, está liberada a utilização de sklearn.metrics;"
   ]
  },
  {
   "cell_type": "markdown",
   "metadata": {},
   "source": [
    "A partir destas métricas, discorra acerca da qualidade desta solução perante o conjunto de\n",
    "testes."
   ]
  },
  {
   "cell_type": "markdown",
   "metadata": {},
   "source": [
    "Gráficos com a solução obtida pelo neurônio Perceptron, dados de treinamento e dados de teste."
   ]
  }
 ],
 "metadata": {
  "kernelspec": {
   "display_name": "venv",
   "language": "python",
   "name": "python3"
  },
  "language_info": {
   "codemirror_mode": {
    "name": "ipython",
    "version": 3
   },
   "file_extension": ".py",
   "mimetype": "text/x-python",
   "name": "python",
   "nbconvert_exporter": "python",
   "pygments_lexer": "ipython3",
   "version": "3.11.9"
  }
 },
 "nbformat": 4,
 "nbformat_minor": 2
}
